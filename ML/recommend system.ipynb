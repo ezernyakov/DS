{
 "cells": [
  {
   "cell_type": "markdown",
   "metadata": {},
   "source": [
    "## Item-to-Item"
   ]
  },
  {
   "cell_type": "code",
   "execution_count": 13,
   "metadata": {},
   "outputs": [],
   "source": [
    "import sys\n",
    "import pandas as pd\n",
    "import scipy\n",
    "import numpy as np\n",
    "from scipy.sparse import csr_matrix\n",
    "\n",
    "# эта функция нам поможет считывать данные\n",
    "from os import path\n",
    "\n",
    "data_dir = \"data/ml-latest-small\"\n",
    "def read_csv(filename: str) -> pd.DataFrame:\n",
    "    data = pd.read_csv(path.join(data_dir, filename + \".csv\"))\n",
    "    return data\n",
    "\n",
    "ratings = read_csv(\"ratings\")\n",
    "movies = read_csv(\"movies\")"
   ]
  },
  {
   "cell_type": "code",
   "execution_count": 2,
   "metadata": {},
   "outputs": [
    {
     "data": {
      "text/html": [
       "<div>\n",
       "<style scoped>\n",
       "    .dataframe tbody tr th:only-of-type {\n",
       "        vertical-align: middle;\n",
       "    }\n",
       "\n",
       "    .dataframe tbody tr th {\n",
       "        vertical-align: top;\n",
       "    }\n",
       "\n",
       "    .dataframe thead th {\n",
       "        text-align: right;\n",
       "    }\n",
       "</style>\n",
       "<table border=\"1\" class=\"dataframe\">\n",
       "  <thead>\n",
       "    <tr style=\"text-align: right;\">\n",
       "      <th></th>\n",
       "      <th>userId</th>\n",
       "      <th>movieId</th>\n",
       "      <th>rating</th>\n",
       "      <th>timestamp</th>\n",
       "    </tr>\n",
       "  </thead>\n",
       "  <tbody>\n",
       "    <tr>\n",
       "      <th>0</th>\n",
       "      <td>1</td>\n",
       "      <td>1</td>\n",
       "      <td>4.0</td>\n",
       "      <td>964982703</td>\n",
       "    </tr>\n",
       "    <tr>\n",
       "      <th>1</th>\n",
       "      <td>1</td>\n",
       "      <td>3</td>\n",
       "      <td>4.0</td>\n",
       "      <td>964981247</td>\n",
       "    </tr>\n",
       "    <tr>\n",
       "      <th>2</th>\n",
       "      <td>1</td>\n",
       "      <td>6</td>\n",
       "      <td>4.0</td>\n",
       "      <td>964982224</td>\n",
       "    </tr>\n",
       "    <tr>\n",
       "      <th>3</th>\n",
       "      <td>1</td>\n",
       "      <td>47</td>\n",
       "      <td>5.0</td>\n",
       "      <td>964983815</td>\n",
       "    </tr>\n",
       "    <tr>\n",
       "      <th>4</th>\n",
       "      <td>1</td>\n",
       "      <td>50</td>\n",
       "      <td>5.0</td>\n",
       "      <td>964982931</td>\n",
       "    </tr>\n",
       "  </tbody>\n",
       "</table>\n",
       "</div>"
      ],
      "text/plain": [
       "   userId  movieId  rating  timestamp\n",
       "0       1        1     4.0  964982703\n",
       "1       1        3     4.0  964981247\n",
       "2       1        6     4.0  964982224\n",
       "3       1       47     5.0  964983815\n",
       "4       1       50     5.0  964982931"
      ]
     },
     "execution_count": 2,
     "metadata": {},
     "output_type": "execute_result"
    }
   ],
   "source": [
    "# пользователи ставят фильмам оценки\n",
    "ratings.head()"
   ]
  },
  {
   "cell_type": "code",
   "execution_count": 3,
   "metadata": {},
   "outputs": [
    {
     "data": {
      "text/html": [
       "<div>\n",
       "<style scoped>\n",
       "    .dataframe tbody tr th:only-of-type {\n",
       "        vertical-align: middle;\n",
       "    }\n",
       "\n",
       "    .dataframe tbody tr th {\n",
       "        vertical-align: top;\n",
       "    }\n",
       "\n",
       "    .dataframe thead th {\n",
       "        text-align: right;\n",
       "    }\n",
       "</style>\n",
       "<table border=\"1\" class=\"dataframe\">\n",
       "  <thead>\n",
       "    <tr style=\"text-align: right;\">\n",
       "      <th></th>\n",
       "      <th>movieId</th>\n",
       "      <th>title</th>\n",
       "      <th>genres</th>\n",
       "    </tr>\n",
       "  </thead>\n",
       "  <tbody>\n",
       "    <tr>\n",
       "      <th>0</th>\n",
       "      <td>1</td>\n",
       "      <td>Toy Story (1995)</td>\n",
       "      <td>Adventure|Animation|Children|Comedy|Fantasy</td>\n",
       "    </tr>\n",
       "    <tr>\n",
       "      <th>1</th>\n",
       "      <td>2</td>\n",
       "      <td>Jumanji (1995)</td>\n",
       "      <td>Adventure|Children|Fantasy</td>\n",
       "    </tr>\n",
       "    <tr>\n",
       "      <th>2</th>\n",
       "      <td>3</td>\n",
       "      <td>Grumpier Old Men (1995)</td>\n",
       "      <td>Comedy|Romance</td>\n",
       "    </tr>\n",
       "    <tr>\n",
       "      <th>3</th>\n",
       "      <td>4</td>\n",
       "      <td>Waiting to Exhale (1995)</td>\n",
       "      <td>Comedy|Drama|Romance</td>\n",
       "    </tr>\n",
       "    <tr>\n",
       "      <th>4</th>\n",
       "      <td>5</td>\n",
       "      <td>Father of the Bride Part II (1995)</td>\n",
       "      <td>Comedy</td>\n",
       "    </tr>\n",
       "  </tbody>\n",
       "</table>\n",
       "</div>"
      ],
      "text/plain": [
       "   movieId                               title  \\\n",
       "0        1                    Toy Story (1995)   \n",
       "1        2                      Jumanji (1995)   \n",
       "2        3             Grumpier Old Men (1995)   \n",
       "3        4            Waiting to Exhale (1995)   \n",
       "4        5  Father of the Bride Part II (1995)   \n",
       "\n",
       "                                        genres  \n",
       "0  Adventure|Animation|Children|Comedy|Fantasy  \n",
       "1                   Adventure|Children|Fantasy  \n",
       "2                               Comedy|Romance  \n",
       "3                         Comedy|Drama|Romance  \n",
       "4                                       Comedy  "
      ]
     },
     "execution_count": 3,
     "metadata": {},
     "output_type": "execute_result"
    }
   ],
   "source": [
    "# про фильмы знаем названия и жанры\n",
    "movies.head()"
   ]
  },
  {
   "cell_type": "code",
   "execution_count": 4,
   "metadata": {},
   "outputs": [
    {
     "name": "stdout",
     "output_type": "stream",
     "text": [
      "максимальный ID фильма\n",
      "193609\n",
      "всего фильмов\n",
      "9724\n",
      "максимальный ID пользователя\n",
      "610\n",
      "всего пользователей\n",
      "610\n"
     ]
    }
   ],
   "source": [
    "print(\"максимальный ID фильма\")\n",
    "last_movie_id = ratings[\"movieId\"].max()\n",
    "print(last_movie_id)\n",
    "print(\"всего фильмов\")\n",
    "print(len(ratings[\"movieId\"].unique()))\n",
    "print(\"максимальный ID пользователя\")\n",
    "last_user_id = ratings[\"userId\"].max()\n",
    "print(last_user_id)\n",
    "print(\"всего пользователей\")\n",
    "print(len(ratings[\"userId\"].unique()))"
   ]
  },
  {
   "cell_type": "code",
   "execution_count": 5,
   "metadata": {},
   "outputs": [],
   "source": [
    "ratings[\"movie_id\"] = ratings[\"movieId\"].astype(\"category\").cat.codes.copy() + 1"
   ]
  },
  {
   "cell_type": "code",
   "execution_count": 7,
   "metadata": {},
   "outputs": [
    {
     "name": "stdout",
     "output_type": "stream",
     "text": [
      "максимальный ID фильма\n",
      "9724\n",
      "всего фильмов\n",
      "9724\n"
     ]
    }
   ],
   "source": [
    "print(\"максимальный ID фильма\")\n",
    "last_movie_id = ratings[\"movie_id\"].max()\n",
    "print(last_movie_id)\n",
    "print(\"всего фильмов\")\n",
    "print(len(ratings[\"movie_id\"].unique()))"
   ]
  },
  {
   "cell_type": "code",
   "execution_count": 8,
   "metadata": {},
   "outputs": [],
   "source": [
    "# функция, которая красиво печатает информацию о разреженных матрицах\n",
    "from scipy.sparse import csr_matrix\n",
    "\n",
    "def sparse_info(sparse_matrix: csr_matrix) -> None:\n",
    "    print(\"Размерности матрицы: {}\".format(sparse_matrix.shape))\n",
    "    print(\"Ненулевых элементов в матрице: {}\".format(sparse_matrix.nnz))\n",
    "    print(\"Доля ненулевых элементов: {}\"\n",
    "          .format(sparse_matrix.nnz / sparse_matrix.shape[0] / sparse_matrix.shape[1])\n",
    "    )\n",
    "    print(\"Среднее значение ненулевых элементов: {}\".format(sparse_matrix.data.mean()))\n",
    "    print(\"Максимальное значение ненулевых элементов: {}\".format(sparse_matrix.data.max()))\n",
    "    print(\"Минимальное значение ненулевых элементов: {}\".format(sparse_matrix.data.min()))"
   ]
  },
  {
   "cell_type": "code",
   "execution_count": 10,
   "metadata": {},
   "outputs": [
    {
     "data": {
      "text/plain": [
       "array([[   1,    1],\n",
       "       [   1,    3],\n",
       "       [   1,    6],\n",
       "       ...,\n",
       "       [ 610, 9445],\n",
       "       [ 610, 9446],\n",
       "       [ 610, 9486]], dtype=int64)"
      ]
     },
     "execution_count": 10,
     "metadata": {},
     "output_type": "execute_result"
    }
   ],
   "source": [
    "user_x_item = ratings[[\"userId\", \"movie_id\"]].values\n",
    "user_x_item"
   ]
  },
  {
   "cell_type": "code",
   "execution_count": 11,
   "metadata": {},
   "outputs": [
    {
     "name": "stdout",
     "output_type": "stream",
     "text": [
      "Размерности матрицы: (611, 9725)\n",
      "Ненулевых элементов в матрице: 100836\n",
      "Доля ненулевых элементов: 0.01697011515531452\n",
      "Среднее значение ненулевых элементов: 1.0\n",
      "Максимальное значение ненулевых элементов: 1\n",
      "Минимальное значение ненулевых элементов: 1\n"
     ]
    }
   ],
   "source": [
    "user_item_matrix = csr_matrix(\n",
    "    (\n",
    "        [1] * len(user_x_item),\n",
    "        (\n",
    "            [pair[0] for pair in user_x_item],\n",
    "            [pair[1] for pair in user_x_item],\n",
    "        )\n",
    "    ),\n",
    "    shape=(last_user_id + 1, last_movie_id + 1)\n",
    ")\n",
    "\n",
    "sparse_info(user_item_matrix)"
   ]
  },
  {
   "cell_type": "code",
   "execution_count": 12,
   "metadata": {},
   "outputs": [
    {
     "name": "stdout",
     "output_type": "stream",
     "text": [
      "(9725, 9725)\n"
     ]
    }
   ],
   "source": [
    "from scipy.spatial.distance import pdist, squareform\n",
    "\n",
    "# pdist умеет всё \"из коробки\", но только с плотными матрицами\n",
    "# плотная матрица может не умещаться в память - это нормально\n",
    "similarity_matrix = squareform(\n",
    "    1 - pdist(\n",
    "        user_item_matrix.todense().T,\n",
    "        metric=\"cosine\"\n",
    "    )\n",
    ")\n",
    "print(similarity_matrix.shape)"
   ]
  },
  {
   "cell_type": "code",
   "execution_count": 13,
   "metadata": {},
   "outputs": [
    {
     "name": "stdout",
     "output_type": "stream",
     "text": [
      "      movieId                                              title\n",
      "3574     4896  Harry Potter and the Sorcerer's Stone (a.k.a. ...\n",
      "4076     5816     Harry Potter and the Chamber of Secrets (2002)\n",
      "5166     8368    Harry Potter and the Prisoner of Azkaban (2004)\n",
      "6062    40815         Harry Potter and the Goblet of Fire (2005)\n",
      "6522    54001   Harry Potter and the Order of the Phoenix (2007)\n",
      "7078    69844      Harry Potter and the Half-Blood Prince (2009)\n",
      "7465    81834  Harry Potter and the Deathly Hallows: Part 1 (...\n",
      "7644    88125  Harry Potter and the Deathly Hallows: Part 2 (...\n"
     ]
    },
    {
     "data": {
      "text/html": [
       "<div>\n",
       "<style scoped>\n",
       "    .dataframe tbody tr th:only-of-type {\n",
       "        vertical-align: middle;\n",
       "    }\n",
       "\n",
       "    .dataframe tbody tr th {\n",
       "        vertical-align: top;\n",
       "    }\n",
       "\n",
       "    .dataframe thead th {\n",
       "        text-align: right;\n",
       "    }\n",
       "</style>\n",
       "<table border=\"1\" class=\"dataframe\">\n",
       "  <thead>\n",
       "    <tr style=\"text-align: right;\">\n",
       "      <th></th>\n",
       "      <th>userId</th>\n",
       "      <th>movieId</th>\n",
       "      <th>rating</th>\n",
       "      <th>timestamp</th>\n",
       "      <th>movie_id</th>\n",
       "    </tr>\n",
       "  </thead>\n",
       "  <tbody>\n",
       "    <tr>\n",
       "      <th>513</th>\n",
       "      <td>4</td>\n",
       "      <td>4896</td>\n",
       "      <td>4.0</td>\n",
       "      <td>1007574532</td>\n",
       "      <td>3570</td>\n",
       "    </tr>\n",
       "  </tbody>\n",
       "</table>\n",
       "</div>"
      ],
      "text/plain": [
       "     userId  movieId  rating   timestamp  movie_id\n",
       "513       4     4896     4.0  1007574532      3570"
      ]
     },
     "execution_count": 13,
     "metadata": {},
     "output_type": "execute_result"
    }
   ],
   "source": [
    "print(movies[movies[\"title\"].str.contains(\"Harry Potter\")][[\"movieId\", \"title\"]])\n",
    "ratings[ratings[\"movieId\"] == 4896].head(1)"
   ]
  },
  {
   "cell_type": "code",
   "execution_count": 14,
   "metadata": {},
   "outputs": [
    {
     "name": "stdout",
     "output_type": "stream",
     "text": [
      "1\n",
      "  (414, 0)\t1\n"
     ]
    }
   ],
   "source": [
    "# представление фильма в виде булевого вектора\n",
    "movie_id = 3811\n",
    "print(len(user_item_matrix[:, movie_id].data))\n",
    "print(user_item_matrix[:, movie_id])"
   ]
  },
  {
   "cell_type": "code",
   "execution_count": 15,
   "metadata": {},
   "outputs": [
    {
     "data": {
      "text/html": [
       "<div>\n",
       "<style scoped>\n",
       "    .dataframe tbody tr th:only-of-type {\n",
       "        vertical-align: middle;\n",
       "    }\n",
       "\n",
       "    .dataframe tbody tr th {\n",
       "        vertical-align: top;\n",
       "    }\n",
       "\n",
       "    .dataframe thead th {\n",
       "        text-align: right;\n",
       "    }\n",
       "</style>\n",
       "<table border=\"1\" class=\"dataframe\">\n",
       "  <thead>\n",
       "    <tr style=\"text-align: right;\">\n",
       "      <th></th>\n",
       "      <th>movieId</th>\n",
       "      <th>title</th>\n",
       "      <th>genres</th>\n",
       "    </tr>\n",
       "  </thead>\n",
       "  <tbody>\n",
       "    <tr>\n",
       "      <th>3291</th>\n",
       "      <td>4451</td>\n",
       "      <td>Jump Tomorrow (2001)</td>\n",
       "      <td>Comedy|Drama|Romance</td>\n",
       "    </tr>\n",
       "    <tr>\n",
       "      <th>3707</th>\n",
       "      <td>5112</td>\n",
       "      <td>Last Orders (2001)</td>\n",
       "      <td>Drama</td>\n",
       "    </tr>\n",
       "    <tr>\n",
       "      <th>3860</th>\n",
       "      <td>5424</td>\n",
       "      <td>Harvard Man (2001)</td>\n",
       "      <td>Crime|Drama|Romance|Thriller</td>\n",
       "    </tr>\n",
       "    <tr>\n",
       "      <th>5239</th>\n",
       "      <td>8587</td>\n",
       "      <td>Mayor of the Sunset Strip (2003)</td>\n",
       "      <td>Documentary</td>\n",
       "    </tr>\n",
       "    <tr>\n",
       "      <th>9241</th>\n",
       "      <td>154358</td>\n",
       "      <td>The Barkley Marathons: The Race That Eats Its ...</td>\n",
       "      <td>Documentary</td>\n",
       "    </tr>\n",
       "  </tbody>\n",
       "</table>\n",
       "</div>"
      ],
      "text/plain": [
       "      movieId                                              title  \\\n",
       "3291     4451                               Jump Tomorrow (2001)   \n",
       "3707     5112                                 Last Orders (2001)   \n",
       "3860     5424                                 Harvard Man (2001)   \n",
       "5239     8587                   Mayor of the Sunset Strip (2003)   \n",
       "9241   154358  The Barkley Marathons: The Race That Eats Its ...   \n",
       "\n",
       "                            genres  \n",
       "3291          Comedy|Drama|Romance  \n",
       "3707                         Drama  \n",
       "3860  Crime|Drama|Romance|Thriller  \n",
       "5239                   Documentary  \n",
       "9241                   Documentary  "
      ]
     },
     "execution_count": 15,
     "metadata": {},
     "output_type": "execute_result"
    }
   ],
   "source": [
    "from scipy.spatial import distance\n",
    "\n",
    "def get_similar_movies(movie_id: int, n: int) -> list:\n",
    "    return (-similarity_matrix[movie_id, :]).argsort()[:n]\n",
    "\n",
    "similar_movies = get_similar_movies(3811, 5)\n",
    "movies[movies[\"movieId\"].isin(\n",
    "    ratings[ratings[\"movie_id\"].isin(similar_movies)][\"movieId\"].tolist()\n",
    ")]"
   ]
  },
  {
   "cell_type": "markdown",
   "metadata": {},
   "source": [
    "## Item-to-user"
   ]
  },
  {
   "cell_type": "code",
   "execution_count": 15,
   "metadata": {},
   "outputs": [
    {
     "name": "stdout",
     "output_type": "stream",
     "text": [
      "самое простое предсказание оценки - это средняя оценка\n",
      "3.501556983616962\n",
      "Размерности матрицы: (611, 9725)\n",
      "Ненулевых элементов в матрице: 100836\n",
      "Доля ненулевых элементов: 0.01697011515531452\n",
      "Среднее значение ненулевых элементов: 1.4678314563809636e-08\n",
      "Максимальное значение ненулевых элементов: 1.4984430074691772\n",
      "Минимальное значение ненулевых элементов: -3.001556873321533\n"
     ]
    }
   ],
   "source": [
    "ratings = read_csv(\"ratings\")\n",
    "movies = read_csv(\"movies\")\n",
    "ratings[\"movie_id\"] = ratings[\"movieId\"].astype(\"category\").cat.codes.copy() + 1\n",
    "\n",
    "def sparse_info(sparse_matrix: csr_matrix):\n",
    "    print(\"Размерности матрицы: {}\".format(sparse_matrix.shape))\n",
    "    print(\"Ненулевых элементов в матрице: {}\".format(sparse_matrix.nnz))\n",
    "    print(\"Доля ненулевых элементов: {}\"\n",
    "          .format(sparse_matrix.nnz / sparse_matrix.shape[0] / sparse_matrix.shape[1])\n",
    "    )\n",
    "    print(\"Среднее значение ненулевых элементов: {}\".format(sparse_matrix.data.mean()))\n",
    "    print(\"Максимальное значение ненулевых элементов: {}\".format(sparse_matrix.data.max()))\n",
    "    print(\"Минимальное значение ненулевых элементов: {}\".format(sparse_matrix.data.min()))\n",
    "    \n",
    "mean_rating = ratings[\"rating\"].mean()\n",
    "print(\"самое простое предсказание оценки - это средняя оценка\")\n",
    "print(mean_rating)\n",
    "\n",
    "last_movie_id = ratings[\"movie_id\"].max()\n",
    "last_user_id = ratings[\"userId\"].max()\n",
    "user_x_item = ratings[[\"userId\", \"movie_id\"]].values\n",
    "# здесь уже на пересечении строк и столбцов матрицы стоят не единички\n",
    "# а отклонение оценки от средней оценки\n",
    "user_item_matrix = csr_matrix(\n",
    "    (\n",
    "        (ratings[\"rating\"] - mean_rating).tolist(),\n",
    "        (\n",
    "            [pair[0] for pair in user_x_item],\n",
    "            [pair[1] for pair in user_x_item],\n",
    "        )\n",
    "    ),\n",
    "    shape=(last_user_id + 1, last_movie_id + 1),\n",
    "    dtype=np.float32\n",
    ")\n",
    "\n",
    "sparse_info(user_item_matrix)"
   ]
  },
  {
   "cell_type": "code",
   "execution_count": 16,
   "metadata": {},
   "outputs": [
    {
     "name": "stdout",
     "output_type": "stream",
     "text": [
      "Размерности матрицы: (9725, 9725)\n",
      "Ненулевых элементов в матрице: 26325068\n",
      "Доля ненулевых элементов: 0.27834939499474626\n",
      "Среднее значение ненулевых элементов: 0.05987884849309921\n",
      "Максимальное значение ненулевых элементов: 1.0000015497207642\n",
      "Минимальное значение ненулевых элементов: -1.0\n"
     ]
    }
   ],
   "source": [
    "# теперь найдём матрицу схожести между фильмами\n",
    "from sklearn.preprocessing import normalize, binarize\n",
    "\n",
    "def get_cosine_similarity_matrix(user_item_matrix):\n",
    "    # матрицы этого типа быстрее умножаются\n",
    "    user_item_csr = user_item_matrix.tocsr()\n",
    "    # нормализация и последующее умножение эквивалентно нахождению косинуса между столбцами матрицы\n",
    "    user_item_normalized = normalize(user_item_csr, norm='l2', axis=0)\n",
    "    return user_item_normalized.T.dot(user_item_normalized)\n",
    "\n",
    "similarity_matrix = get_cosine_similarity_matrix(user_item_matrix)\n",
    "sparse_info(similarity_matrix)"
   ]
  },
  {
   "cell_type": "code",
   "execution_count": 17,
   "metadata": {},
   "outputs": [],
   "source": [
    "from scipy.sparse import vstack, csr_matrix\n",
    "\n",
    "# оставляем только top k схожих элементов (k ближайших соседей)\n",
    "def get_top_k_in_a_row(similarity_matrix, row, k, no_diagonal):\n",
    "    lil_row = similarity_matrix[row]\n",
    "    # каждый фильм очень сильно схож сам с собой, но это бесполезная информация\n",
    "    if no_diagonal:\n",
    "        lil_row[0, row] = 0\n",
    "    csr_row = lil_row.tocsr()\n",
    "    csr_row.data[csr_row.data.argsort()[:-k]] = 0\n",
    "    csr_row.eliminate_zeros()\n",
    "    return csr_row\n",
    "\n",
    "def get_top_k(similarity_matrix, k, no_diagonal=True):\n",
    "    # с матрицами этого типа удобнее всего работать построчно\n",
    "    lil_similarity = similarity_matrix.tolil()\n",
    "    top_k_similarity_matrix = get_top_k_in_a_row(lil_similarity, 0, k, no_diagonal)\n",
    "    for row in range(1, lil_similarity.shape[0]):\n",
    "        if len(lil_similarity.rows[row]) > 0:\n",
    "            csr_row = get_top_k_in_a_row(lil_similarity, row, k, no_diagonal)\n",
    "            top_k_similarity_matrix = vstack([top_k_similarity_matrix, csr_row])\n",
    "    return top_k_similarity_matrix"
   ]
  },
  {
   "cell_type": "code",
   "execution_count": 18,
   "metadata": {},
   "outputs": [
    {
     "name": "stdout",
     "output_type": "stream",
     "text": [
      "ненулевых элементов стало гораздо меньше\n",
      "Размерности матрицы: (9725, 9725)\n",
      "Ненулевых элементов в матрице: 48620\n",
      "Доля ненулевых элементов: 0.0005140859497359916\n",
      "Среднее значение ненулевых элементов: 0.7763450741767883\n",
      "Максимальное значение ненулевых элементов: 1.0000001192092896\n",
      "Минимальное значение ненулевых элементов: -0.05091584473848343\n"
     ]
    }
   ],
   "source": [
    "top_k_similarity_matrix = get_top_k(similarity_matrix, 5)\n",
    "del similarity_matrix\n",
    "print(\"ненулевых элементов стало гораздо меньше\")\n",
    "sparse_info(top_k_similarity_matrix)"
   ]
  },
  {
   "cell_type": "code",
   "execution_count": 19,
   "metadata": {},
   "outputs": [
    {
     "name": "stdout",
     "output_type": "stream",
     "text": [
      "Размер обучающей выборки: 10083\n",
      "Размер тестовой выборки: 90753\n"
     ]
    }
   ],
   "source": [
    "# выделяем обучающую и тестовую выборки\n",
    "from scipy.sparse import coo_matrix\n",
    "\n",
    "np.random.seed(0)\n",
    "train_percent = 0.1\n",
    "user_item_matrix = user_item_matrix.tocoo()\n",
    "train_split = np.random.choice(\n",
    "    range(user_item_matrix.nnz),\n",
    "    int(user_item_matrix.nnz * train_percent),\n",
    "    replace=False\n",
    ")\n",
    "test_split = list(set(range(user_item_matrix.nnz)) - set(train_split))\n",
    "train_matrix = coo_matrix(\n",
    "    (\n",
    "        user_item_matrix.data[train_split],\n",
    "        (user_item_matrix.row[train_split], user_item_matrix.col[train_split])\n",
    "    ),\n",
    "    shape=user_item_matrix.shape\n",
    ")\n",
    "test_matrix = coo_matrix(\n",
    "    (\n",
    "        user_item_matrix.data[test_split],\n",
    "        (user_item_matrix.row[test_split], user_item_matrix.col[test_split])\n",
    "    ),\n",
    "    shape=user_item_matrix.shape\n",
    ")\n",
    "print(\"Размер обучающей выборки:\", train_matrix.nnz)\n",
    "print(\"Размер тестовой выборки:\", test_matrix.nnz)"
   ]
  },
  {
   "cell_type": "code",
   "execution_count": 20,
   "metadata": {},
   "outputs": [
    {
     "name": "stdout",
     "output_type": "stream",
     "text": [
      "точность нашего baseline\n",
      "1.0405655\n"
     ]
    }
   ],
   "source": [
    "#Среднеквадратичная ошибка (Root Mean Square Error, RMS Error, RMSE) - расстояние между двумя точками.\n",
    "def RMSE(matrix1: coo_matrix, matrix2: coo_matrix):\n",
    "    return np.sqrt(((matrix1 - matrix2).data ** 2).mean())\n",
    "\n",
    "mean_rating_prediction = 0 * test_matrix\n",
    "print(\"точность нашего baseline\")\n",
    "print(RMSE(mean_rating_prediction, test_matrix))"
   ]
  },
  {
   "cell_type": "code",
   "execution_count": 21,
   "metadata": {},
   "outputs": [
    {
     "name": "stdout",
     "output_type": "stream",
     "text": [
      "получили предсказаний всего\n",
      "45383\n"
     ]
    }
   ],
   "source": [
    "# нахождение предсказаний эквивалентно умножению нормированной матрицы схожести на вектор оценок пользователя\n",
    "normalized_similarity = normalize(top_k_similarity_matrix.tocsr(), norm=\"l1\", axis=0)\n",
    "raw_predictions = train_matrix.dot(normalized_similarity).tocoo()\n",
    "print(\"получили предсказаний всего\")\n",
    "print(len(raw_predictions.data))"
   ]
  },
  {
   "cell_type": "code",
   "execution_count": 22,
   "metadata": {},
   "outputs": [
    {
     "name": "stdout",
     "output_type": "stream",
     "text": [
      "оставили предсказаний для теста\n",
      "5459\n"
     ]
    }
   ],
   "source": [
    "filtered_predictions = binarize(test_matrix).multiply(raw_predictions)\n",
    "print(\"оставили предсказаний для теста\")\n",
    "print(len(filtered_predictions.data))"
   ]
  },
  {
   "cell_type": "code",
   "execution_count": 23,
   "metadata": {},
   "outputs": [
    {
     "name": "stdout",
     "output_type": "stream",
     "text": [
      "1.031941\n"
     ]
    }
   ],
   "source": [
    "print(RMSE(filtered_predictions, test_matrix))"
   ]
  },
  {
   "cell_type": "code",
   "execution_count": null,
   "metadata": {},
   "outputs": [],
   "source": []
  }
 ],
 "metadata": {
  "kernelspec": {
   "display_name": "Python 3",
   "language": "python",
   "name": "python3"
  },
  "language_info": {
   "codemirror_mode": {
    "name": "ipython",
    "version": 3
   },
   "file_extension": ".py",
   "mimetype": "text/x-python",
   "name": "python",
   "nbconvert_exporter": "python",
   "pygments_lexer": "ipython3",
   "version": "3.8.3"
  }
 },
 "nbformat": 4,
 "nbformat_minor": 4
}
